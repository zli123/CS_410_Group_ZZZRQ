{
 "cells": [
  {
   "cell_type": "code",
   "execution_count": 104,
   "metadata": {},
   "outputs": [
    {
     "name": "stderr",
     "output_type": "stream",
     "text": [
      "[nltk_data] Downloading package stopwords to\n",
      "[nltk_data]     /Users/qiweihe/nltk_data...\n",
      "[nltk_data]   Package stopwords is already up-to-date!\n",
      "[nltk_data] Downloading package vader_lexicon to\n",
      "[nltk_data]     /Users/qiweihe/nltk_data...\n"
     ]
    }
   ],
   "source": [
    "import pandas as pd\n",
    "import numpy as np\n",
    "import matplotlib.pyplot as plt\n",
    "import seaborn as sns\n",
    "\n",
    "\n",
    "\n",
    "import nltk\n",
    "from nltk.corpus import stopwords\n",
    "\n",
    "nltk.download('stopwords')\n",
    "\n",
    "nltk.download('vader_lexicon')\n",
    "import string\n",
    "import math\n",
    "from sklearn.feature_extraction.text import CountVectorizer\n",
    "from sklearn.model_selection import train_test_split, cross_val_score\n",
    "from sklearn.metrics import classification_report\n",
    "from sklearn.metrics import confusion_matrix, accuracy_score, roc_auc_score, roc_curve\n",
    "\n",
    "%matplotlib inline"
   ]
  },
  {
   "cell_type": "code",
   "execution_count": 15,
   "metadata": {},
   "outputs": [
    {
     "name": "stdout",
     "output_type": "stream",
     "text": [
      "Shape of the dataset:\n",
      "(1244, 13)\n",
      "Column names:\n",
      "Index(['review_id', 'user_id', 'business_id', 'review/0/0', 'date', 'time',\n",
      "       'categories', 'city', 'state', 'stars', 'business_review_count',\n",
      "       'predicted_review_score', 'actual_yelp_score'],\n",
      "      dtype='object')\n",
      "Datatype of each column:\n",
      "review_id                  object\n",
      "user_id                    object\n",
      "business_id                object\n",
      "review/0/0                 object\n",
      "date                       object\n",
      "time                       object\n",
      "categories                 object\n",
      "city                       object\n",
      "state                      object\n",
      "stars                     float64\n",
      "business_review_count       int64\n",
      "predicted_review_score    float64\n",
      "actual_yelp_score           int64\n",
      "dtype: object\n",
      "Some dataset entries:\n",
      "                review_id                 user_id             business_id  \\\n",
      "0  G1R-wZSTfuKmjECPweBlog  SrwHXDUhVDAOeLUG1Tux5A  fJQHj9Sq1R0a9FO08q8HWw   \n",
      "1  6kspElQoYsBaFTYDtv0lUw  LojDefMzt-_qhj-9ZjJqUw  uzhiTCvVaK_0fZwa7rWDzw   \n",
      "2  eZjowtS53nHe1KBulkQ2sA  n7TlGclA7W8-UwZ0ozng0g  _8bELjUz5tnftBbXAxKyjA   \n",
      "3  VSgDxCJcEwTXKJK4HaKQHg  xyI9DCVKW91P6RMLdan0KA  MeA_7cfxh9c7wczQHYQKeQ   \n",
      "4  XQ_ByAZ4oWCpxLIfYuntfA  ASPYq2tVrSgcnzk75uUOnw  QnVOsBJWKZ6nN79VbV6l2Q   \n",
      "\n",
      "                                          review/0/0        date      time  \\\n",
      "0  worst fucking service ever. i walked in and wa...  2020-05-27  18:24:40   \n",
      "1  Terrible service by Barista too busy chatting....  2016-11-05  20:48:47   \n",
      "2  Amazing this store is so funny. The workers la...  2021-04-07  02:43:40   \n",
      "3  It is never a bad thing when a Starbucks has a...  2012-11-01  15:35:16   \n",
      "4  The drinks are well made, the staff is very fr...  2015-08-26  04:48:53   \n",
      "\n",
      "                        categories       city state  stars  \\\n",
      "0               Coffee & Tea, Food  Nashville    TN    3.0   \n",
      "1               Food, Coffee & Tea     Tucson    AZ    4.0   \n",
      "2               Coffee & Tea, Food  St. Louis    MO    3.5   \n",
      "3               Coffee & Tea, Food   Edmonton    AB    2.0   \n",
      "4  Coffee & Tea, Food, Restaurants       Avon    IN    3.0   \n",
      "\n",
      "   business_review_count  predicted_review_score  actual_yelp_score  \n",
      "0                     30                   0.075                  1  \n",
      "1                     39                   1.025                  1  \n",
      "2                     34                   4.975                  5  \n",
      "3                     11                   3.275                  4  \n",
      "4                     34                   1.525                  3  \n"
     ]
    },
    {
     "data": {
      "text/html": [
       "<div>\n",
       "<style scoped>\n",
       "    .dataframe tbody tr th:only-of-type {\n",
       "        vertical-align: middle;\n",
       "    }\n",
       "\n",
       "    .dataframe tbody tr th {\n",
       "        vertical-align: top;\n",
       "    }\n",
       "\n",
       "    .dataframe thead th {\n",
       "        text-align: right;\n",
       "    }\n",
       "</style>\n",
       "<table border=\"1\" class=\"dataframe\">\n",
       "  <thead>\n",
       "    <tr style=\"text-align: right;\">\n",
       "      <th></th>\n",
       "      <th>review_id</th>\n",
       "      <th>user_id</th>\n",
       "      <th>business_id</th>\n",
       "      <th>review/0/0</th>\n",
       "      <th>date</th>\n",
       "      <th>time</th>\n",
       "      <th>categories</th>\n",
       "      <th>city</th>\n",
       "      <th>state</th>\n",
       "      <th>stars</th>\n",
       "      <th>business_review_count</th>\n",
       "      <th>predicted_review_score</th>\n",
       "      <th>actual_yelp_score</th>\n",
       "    </tr>\n",
       "  </thead>\n",
       "  <tbody>\n",
       "    <tr>\n",
       "      <th>count</th>\n",
       "      <td>1244</td>\n",
       "      <td>1244</td>\n",
       "      <td>1244</td>\n",
       "      <td>1244</td>\n",
       "      <td>1244</td>\n",
       "      <td>1244</td>\n",
       "      <td>1244</td>\n",
       "      <td>1244</td>\n",
       "      <td>1244</td>\n",
       "      <td>1244.000000</td>\n",
       "      <td>1244.000000</td>\n",
       "      <td>1244.000000</td>\n",
       "      <td>1244.000000</td>\n",
       "    </tr>\n",
       "    <tr>\n",
       "      <th>unique</th>\n",
       "      <td>1239</td>\n",
       "      <td>1229</td>\n",
       "      <td>1117</td>\n",
       "      <td>1239</td>\n",
       "      <td>935</td>\n",
       "      <td>1224</td>\n",
       "      <td>863</td>\n",
       "      <td>181</td>\n",
       "      <td>14</td>\n",
       "      <td>NaN</td>\n",
       "      <td>NaN</td>\n",
       "      <td>NaN</td>\n",
       "      <td>NaN</td>\n",
       "    </tr>\n",
       "    <tr>\n",
       "      <th>top</th>\n",
       "      <td>Pe_cQ6J9X1yI0dEgS5cV3w</td>\n",
       "      <td>gVzan-ALI1w1jGrUceaofg</td>\n",
       "      <td>_ab50qdWOk0DdB6XOrBitw</td>\n",
       "      <td>May 25, 2015 Monday at 8:30 AM Breakfast\\r\\n2 ...</td>\n",
       "      <td>2020-08-02</td>\n",
       "      <td>03:35:01</td>\n",
       "      <td>Live/Raw Food, Seafood, Restaurants, Cajun/Creole</td>\n",
       "      <td>Philadelphia</td>\n",
       "      <td>PA</td>\n",
       "      <td>NaN</td>\n",
       "      <td>NaN</td>\n",
       "      <td>NaN</td>\n",
       "      <td>NaN</td>\n",
       "    </tr>\n",
       "    <tr>\n",
       "      <th>freq</th>\n",
       "      <td>2</td>\n",
       "      <td>3</td>\n",
       "      <td>61</td>\n",
       "      <td>2</td>\n",
       "      <td>8</td>\n",
       "      <td>2</td>\n",
       "      <td>61</td>\n",
       "      <td>188</td>\n",
       "      <td>262</td>\n",
       "      <td>NaN</td>\n",
       "      <td>NaN</td>\n",
       "      <td>NaN</td>\n",
       "      <td>NaN</td>\n",
       "    </tr>\n",
       "    <tr>\n",
       "      <th>mean</th>\n",
       "      <td>NaN</td>\n",
       "      <td>NaN</td>\n",
       "      <td>NaN</td>\n",
       "      <td>NaN</td>\n",
       "      <td>NaN</td>\n",
       "      <td>NaN</td>\n",
       "      <td>NaN</td>\n",
       "      <td>NaN</td>\n",
       "      <td>NaN</td>\n",
       "      <td>3.352090</td>\n",
       "      <td>656.963826</td>\n",
       "      <td>3.003678</td>\n",
       "      <td>3.365756</td>\n",
       "    </tr>\n",
       "    <tr>\n",
       "      <th>std</th>\n",
       "      <td>NaN</td>\n",
       "      <td>NaN</td>\n",
       "      <td>NaN</td>\n",
       "      <td>NaN</td>\n",
       "      <td>NaN</td>\n",
       "      <td>NaN</td>\n",
       "      <td>NaN</td>\n",
       "      <td>NaN</td>\n",
       "      <td>NaN</td>\n",
       "      <td>0.971138</td>\n",
       "      <td>1716.809191</td>\n",
       "      <td>1.793419</td>\n",
       "      <td>1.647197</td>\n",
       "    </tr>\n",
       "    <tr>\n",
       "      <th>min</th>\n",
       "      <td>NaN</td>\n",
       "      <td>NaN</td>\n",
       "      <td>NaN</td>\n",
       "      <td>NaN</td>\n",
       "      <td>NaN</td>\n",
       "      <td>NaN</td>\n",
       "      <td>NaN</td>\n",
       "      <td>NaN</td>\n",
       "      <td>NaN</td>\n",
       "      <td>1.000000</td>\n",
       "      <td>5.000000</td>\n",
       "      <td>0.000000</td>\n",
       "      <td>1.000000</td>\n",
       "    </tr>\n",
       "    <tr>\n",
       "      <th>25%</th>\n",
       "      <td>NaN</td>\n",
       "      <td>NaN</td>\n",
       "      <td>NaN</td>\n",
       "      <td>NaN</td>\n",
       "      <td>NaN</td>\n",
       "      <td>NaN</td>\n",
       "      <td>NaN</td>\n",
       "      <td>NaN</td>\n",
       "      <td>NaN</td>\n",
       "      <td>2.500000</td>\n",
       "      <td>32.000000</td>\n",
       "      <td>1.375000</td>\n",
       "      <td>1.000000</td>\n",
       "    </tr>\n",
       "    <tr>\n",
       "      <th>50%</th>\n",
       "      <td>NaN</td>\n",
       "      <td>NaN</td>\n",
       "      <td>NaN</td>\n",
       "      <td>NaN</td>\n",
       "      <td>NaN</td>\n",
       "      <td>NaN</td>\n",
       "      <td>NaN</td>\n",
       "      <td>NaN</td>\n",
       "      <td>NaN</td>\n",
       "      <td>3.500000</td>\n",
       "      <td>76.000000</td>\n",
       "      <td>3.375000</td>\n",
       "      <td>4.000000</td>\n",
       "    </tr>\n",
       "    <tr>\n",
       "      <th>75%</th>\n",
       "      <td>NaN</td>\n",
       "      <td>NaN</td>\n",
       "      <td>NaN</td>\n",
       "      <td>NaN</td>\n",
       "      <td>NaN</td>\n",
       "      <td>NaN</td>\n",
       "      <td>NaN</td>\n",
       "      <td>NaN</td>\n",
       "      <td>NaN</td>\n",
       "      <td>4.000000</td>\n",
       "      <td>302.750000</td>\n",
       "      <td>4.825000</td>\n",
       "      <td>5.000000</td>\n",
       "    </tr>\n",
       "    <tr>\n",
       "      <th>max</th>\n",
       "      <td>NaN</td>\n",
       "      <td>NaN</td>\n",
       "      <td>NaN</td>\n",
       "      <td>NaN</td>\n",
       "      <td>NaN</td>\n",
       "      <td>NaN</td>\n",
       "      <td>NaN</td>\n",
       "      <td>NaN</td>\n",
       "      <td>NaN</td>\n",
       "      <td>5.000000</td>\n",
       "      <td>7568.000000</td>\n",
       "      <td>5.000000</td>\n",
       "      <td>5.000000</td>\n",
       "    </tr>\n",
       "  </tbody>\n",
       "</table>\n",
       "</div>"
      ],
      "text/plain": [
       "                     review_id                 user_id  \\\n",
       "count                     1244                    1244   \n",
       "unique                    1239                    1229   \n",
       "top     Pe_cQ6J9X1yI0dEgS5cV3w  gVzan-ALI1w1jGrUceaofg   \n",
       "freq                         2                       3   \n",
       "mean                       NaN                     NaN   \n",
       "std                        NaN                     NaN   \n",
       "min                        NaN                     NaN   \n",
       "25%                        NaN                     NaN   \n",
       "50%                        NaN                     NaN   \n",
       "75%                        NaN                     NaN   \n",
       "max                        NaN                     NaN   \n",
       "\n",
       "                   business_id  \\\n",
       "count                     1244   \n",
       "unique                    1117   \n",
       "top     _ab50qdWOk0DdB6XOrBitw   \n",
       "freq                        61   \n",
       "mean                       NaN   \n",
       "std                        NaN   \n",
       "min                        NaN   \n",
       "25%                        NaN   \n",
       "50%                        NaN   \n",
       "75%                        NaN   \n",
       "max                        NaN   \n",
       "\n",
       "                                               review/0/0        date  \\\n",
       "count                                                1244        1244   \n",
       "unique                                               1239         935   \n",
       "top     May 25, 2015 Monday at 8:30 AM Breakfast\\r\\n2 ...  2020-08-02   \n",
       "freq                                                    2           8   \n",
       "mean                                                  NaN         NaN   \n",
       "std                                                   NaN         NaN   \n",
       "min                                                   NaN         NaN   \n",
       "25%                                                   NaN         NaN   \n",
       "50%                                                   NaN         NaN   \n",
       "75%                                                   NaN         NaN   \n",
       "max                                                   NaN         NaN   \n",
       "\n",
       "            time                                         categories  \\\n",
       "count       1244                                               1244   \n",
       "unique      1224                                                863   \n",
       "top     03:35:01  Live/Raw Food, Seafood, Restaurants, Cajun/Creole   \n",
       "freq           2                                                 61   \n",
       "mean         NaN                                                NaN   \n",
       "std          NaN                                                NaN   \n",
       "min          NaN                                                NaN   \n",
       "25%          NaN                                                NaN   \n",
       "50%          NaN                                                NaN   \n",
       "75%          NaN                                                NaN   \n",
       "max          NaN                                                NaN   \n",
       "\n",
       "                city state        stars  business_review_count  \\\n",
       "count           1244  1244  1244.000000            1244.000000   \n",
       "unique           181    14          NaN                    NaN   \n",
       "top     Philadelphia    PA          NaN                    NaN   \n",
       "freq             188   262          NaN                    NaN   \n",
       "mean             NaN   NaN     3.352090             656.963826   \n",
       "std              NaN   NaN     0.971138            1716.809191   \n",
       "min              NaN   NaN     1.000000               5.000000   \n",
       "25%              NaN   NaN     2.500000              32.000000   \n",
       "50%              NaN   NaN     3.500000              76.000000   \n",
       "75%              NaN   NaN     4.000000             302.750000   \n",
       "max              NaN   NaN     5.000000            7568.000000   \n",
       "\n",
       "        predicted_review_score  actual_yelp_score  \n",
       "count              1244.000000        1244.000000  \n",
       "unique                     NaN                NaN  \n",
       "top                        NaN                NaN  \n",
       "freq                       NaN                NaN  \n",
       "mean                  3.003678           3.365756  \n",
       "std                   1.793419           1.647197  \n",
       "min                   0.000000           1.000000  \n",
       "25%                   1.375000           1.000000  \n",
       "50%                   3.375000           4.000000  \n",
       "75%                   4.825000           5.000000  \n",
       "max                   5.000000           5.000000  "
      ]
     },
     "execution_count": 15,
     "metadata": {},
     "output_type": "execute_result"
    }
   ],
   "source": [
    "data = pd.read_csv('result.csv')\n",
    "# shape of the dataset \n",
    "print(\"Shape of the dataset:\")\n",
    "print(data.shape)\n",
    "# column names\n",
    "print(\"Column names:\")\n",
    "print(data.columns)\n",
    "# datatype of each column\n",
    "print(\"Datatype of each column:\")\n",
    "print(data.dtypes)\n",
    "# some\n",
    "print(\"Some dataset entries:\")\n",
    "print(data.head())\n",
    "# summary\n",
    "data.describe(include='all')"
   ]
  },
  {
   "cell_type": "code",
   "execution_count": 16,
   "metadata": {},
   "outputs": [
    {
     "data": {
      "text/html": [
       "<div>\n",
       "<style scoped>\n",
       "    .dataframe tbody tr th:only-of-type {\n",
       "        vertical-align: middle;\n",
       "    }\n",
       "\n",
       "    .dataframe tbody tr th {\n",
       "        vertical-align: top;\n",
       "    }\n",
       "\n",
       "    .dataframe thead th {\n",
       "        text-align: right;\n",
       "    }\n",
       "</style>\n",
       "<table border=\"1\" class=\"dataframe\">\n",
       "  <thead>\n",
       "    <tr style=\"text-align: right;\">\n",
       "      <th></th>\n",
       "      <th>review_id</th>\n",
       "      <th>user_id</th>\n",
       "      <th>business_id</th>\n",
       "      <th>review/0/0</th>\n",
       "      <th>date</th>\n",
       "      <th>time</th>\n",
       "      <th>categories</th>\n",
       "      <th>city</th>\n",
       "      <th>state</th>\n",
       "      <th>stars</th>\n",
       "      <th>business_review_count</th>\n",
       "      <th>predicted_review_score</th>\n",
       "      <th>actual_yelp_score</th>\n",
       "      <th>length</th>\n",
       "    </tr>\n",
       "  </thead>\n",
       "  <tbody>\n",
       "    <tr>\n",
       "      <th>0</th>\n",
       "      <td>G1R-wZSTfuKmjECPweBlog</td>\n",
       "      <td>SrwHXDUhVDAOeLUG1Tux5A</td>\n",
       "      <td>fJQHj9Sq1R0a9FO08q8HWw</td>\n",
       "      <td>worst fucking service ever. i walked in and wa...</td>\n",
       "      <td>2020-05-27</td>\n",
       "      <td>18:24:40</td>\n",
       "      <td>Coffee &amp; Tea, Food</td>\n",
       "      <td>Nashville</td>\n",
       "      <td>TN</td>\n",
       "      <td>3.0</td>\n",
       "      <td>30</td>\n",
       "      <td>0.075</td>\n",
       "      <td>1</td>\n",
       "      <td>230</td>\n",
       "    </tr>\n",
       "    <tr>\n",
       "      <th>1</th>\n",
       "      <td>6kspElQoYsBaFTYDtv0lUw</td>\n",
       "      <td>LojDefMzt-_qhj-9ZjJqUw</td>\n",
       "      <td>uzhiTCvVaK_0fZwa7rWDzw</td>\n",
       "      <td>Terrible service by Barista too busy chatting....</td>\n",
       "      <td>2016-11-05</td>\n",
       "      <td>20:48:47</td>\n",
       "      <td>Food, Coffee &amp; Tea</td>\n",
       "      <td>Tucson</td>\n",
       "      <td>AZ</td>\n",
       "      <td>4.0</td>\n",
       "      <td>39</td>\n",
       "      <td>1.025</td>\n",
       "      <td>1</td>\n",
       "      <td>383</td>\n",
       "    </tr>\n",
       "    <tr>\n",
       "      <th>2</th>\n",
       "      <td>eZjowtS53nHe1KBulkQ2sA</td>\n",
       "      <td>n7TlGclA7W8-UwZ0ozng0g</td>\n",
       "      <td>_8bELjUz5tnftBbXAxKyjA</td>\n",
       "      <td>Amazing this store is so funny. The workers la...</td>\n",
       "      <td>2021-04-07</td>\n",
       "      <td>02:43:40</td>\n",
       "      <td>Coffee &amp; Tea, Food</td>\n",
       "      <td>St. Louis</td>\n",
       "      <td>MO</td>\n",
       "      <td>3.5</td>\n",
       "      <td>34</td>\n",
       "      <td>4.975</td>\n",
       "      <td>5</td>\n",
       "      <td>151</td>\n",
       "    </tr>\n",
       "    <tr>\n",
       "      <th>3</th>\n",
       "      <td>VSgDxCJcEwTXKJK4HaKQHg</td>\n",
       "      <td>xyI9DCVKW91P6RMLdan0KA</td>\n",
       "      <td>MeA_7cfxh9c7wczQHYQKeQ</td>\n",
       "      <td>It is never a bad thing when a Starbucks has a...</td>\n",
       "      <td>2012-11-01</td>\n",
       "      <td>15:35:16</td>\n",
       "      <td>Coffee &amp; Tea, Food</td>\n",
       "      <td>Edmonton</td>\n",
       "      <td>AB</td>\n",
       "      <td>2.0</td>\n",
       "      <td>11</td>\n",
       "      <td>3.275</td>\n",
       "      <td>4</td>\n",
       "      <td>280</td>\n",
       "    </tr>\n",
       "    <tr>\n",
       "      <th>4</th>\n",
       "      <td>XQ_ByAZ4oWCpxLIfYuntfA</td>\n",
       "      <td>ASPYq2tVrSgcnzk75uUOnw</td>\n",
       "      <td>QnVOsBJWKZ6nN79VbV6l2Q</td>\n",
       "      <td>The drinks are well made, the staff is very fr...</td>\n",
       "      <td>2015-08-26</td>\n",
       "      <td>04:48:53</td>\n",
       "      <td>Coffee &amp; Tea, Food, Restaurants</td>\n",
       "      <td>Avon</td>\n",
       "      <td>IN</td>\n",
       "      <td>3.0</td>\n",
       "      <td>34</td>\n",
       "      <td>1.525</td>\n",
       "      <td>3</td>\n",
       "      <td>110</td>\n",
       "    </tr>\n",
       "  </tbody>\n",
       "</table>\n",
       "</div>"
      ],
      "text/plain": [
       "                review_id                 user_id             business_id  \\\n",
       "0  G1R-wZSTfuKmjECPweBlog  SrwHXDUhVDAOeLUG1Tux5A  fJQHj9Sq1R0a9FO08q8HWw   \n",
       "1  6kspElQoYsBaFTYDtv0lUw  LojDefMzt-_qhj-9ZjJqUw  uzhiTCvVaK_0fZwa7rWDzw   \n",
       "2  eZjowtS53nHe1KBulkQ2sA  n7TlGclA7W8-UwZ0ozng0g  _8bELjUz5tnftBbXAxKyjA   \n",
       "3  VSgDxCJcEwTXKJK4HaKQHg  xyI9DCVKW91P6RMLdan0KA  MeA_7cfxh9c7wczQHYQKeQ   \n",
       "4  XQ_ByAZ4oWCpxLIfYuntfA  ASPYq2tVrSgcnzk75uUOnw  QnVOsBJWKZ6nN79VbV6l2Q   \n",
       "\n",
       "                                          review/0/0        date      time  \\\n",
       "0  worst fucking service ever. i walked in and wa...  2020-05-27  18:24:40   \n",
       "1  Terrible service by Barista too busy chatting....  2016-11-05  20:48:47   \n",
       "2  Amazing this store is so funny. The workers la...  2021-04-07  02:43:40   \n",
       "3  It is never a bad thing when a Starbucks has a...  2012-11-01  15:35:16   \n",
       "4  The drinks are well made, the staff is very fr...  2015-08-26  04:48:53   \n",
       "\n",
       "                        categories       city state  stars  \\\n",
       "0               Coffee & Tea, Food  Nashville    TN    3.0   \n",
       "1               Food, Coffee & Tea     Tucson    AZ    4.0   \n",
       "2               Coffee & Tea, Food  St. Louis    MO    3.5   \n",
       "3               Coffee & Tea, Food   Edmonton    AB    2.0   \n",
       "4  Coffee & Tea, Food, Restaurants       Avon    IN    3.0   \n",
       "\n",
       "   business_review_count  predicted_review_score  actual_yelp_score  length  \n",
       "0                     30                   0.075                  1     230  \n",
       "1                     39                   1.025                  1     383  \n",
       "2                     34                   4.975                  5     151  \n",
       "3                     11                   3.275                  4     280  \n",
       "4                     34                   1.525                  3     110  "
      ]
     },
     "execution_count": 16,
     "metadata": {},
     "output_type": "execute_result"
    }
   ],
   "source": [
    "\n",
    "#new colum for #of words in the review\n",
    "data['length'] = data['review/0/0'].apply(len)\n",
    "data.head()"
   ]
  },
  {
   "cell_type": "markdown",
   "metadata": {},
   "source": [
    "# Relationship between review length and star's value"
   ]
  },
  {
   "cell_type": "code",
   "execution_count": 17,
   "metadata": {},
   "outputs": [
    {
     "data": {
      "text/plain": [
       "<seaborn.axisgrid.FacetGrid at 0x1a29b390d0>"
      ]
     },
     "execution_count": 17,
     "metadata": {},
     "output_type": "execute_result"
    },
    {
     "data": {
      "image/png": "[encoded data removed]",
      "text/plain": [
       "<Figure size 1944x216 with 9 Axes>"
      ]
     },
     "metadata": {
      "needs_background": "light"
     },
     "output_type": "display_data"
    }
   ],
   "source": [
    "#see the relationship between revew length and star's value\n",
    "\n",
    "graph = sns.FacetGrid(data=data,col='stars')\n",
    "graph.map(plt.hist,'length',bins=20,color='orange')"
   ]
  },
  {
   "cell_type": "code",
   "execution_count": 18,
   "metadata": {},
   "outputs": [
    {
     "name": "stdout",
     "output_type": "stream",
     "text": [
      "(192, 14)\n"
     ]
    }
   ],
   "source": [
    "# Classfication of stars\n",
    "data_classes = data[(data['stars']==1) | (data['stars']==3) | (data['stars']==5)]\n",
    "data_classes.head()\n",
    "print(data_classes.shape)"
   ]
  },
  {
   "cell_type": "code",
   "execution_count": 19,
   "metadata": {},
   "outputs": [
    {
     "name": "stdout",
     "output_type": "stream",
     "text": [
      "0     worst fucking service ever. i walked in and wa...\n",
      "4     The drinks are well made, the staff is very fr...\n",
      "6     Do yourself a favor and download the app and p...\n",
      "12    came in on vacation and they were so speedy wi...\n",
      "16    Would be better if the staff didn't talk bad a...\n",
      "Name: review/0/0, dtype: object\n",
      "0     3.0\n",
      "4     3.0\n",
      "6     3.0\n",
      "12    3.0\n",
      "16    3.0\n",
      "Name: stars, dtype: float64\n"
     ]
    }
   ],
   "source": [
    "# separation of dataset \n",
    "x = data_classes['review/0/0']\n",
    "y = data_classes['stars']\n",
    "print(x.head())\n",
    "print(y.head())"
   ]
  },
  {
   "cell_type": "code",
   "execution_count": 22,
   "metadata": {},
   "outputs": [],
   "source": [
    "\n",
    "#removal of stopwords and punctuation\n",
    "def removal(text):\n",
    "    nopunc = [char for char in text if char not in string.punctuation]\n",
    "    nopunc = ''.join(nopunc)\n",
    "    return [word for word in nopunc.split() if word.lower() not in stopwords.words('english')]"
   ]
  },
  {
   "cell_type": "markdown",
   "metadata": {},
   "source": [
    "# Modeling with different models to check which one would give best performance"
   ]
  },
  {
   "cell_type": "code",
   "execution_count": 24,
   "metadata": {},
   "outputs": [
    {
     "name": "stdout",
     "output_type": "stream",
     "text": [
      "3166\n",
      "worst fucking service ever. i walked in and was completely ignored. 3 ppl walked in after me and were greeted immediately. i would've never gotten my drink if i hadn't spoken up. i ordered my regular drink and it tasted like shit.\n",
      "  (0, 35)\t1\n",
      "  (0, 1073)\t1\n",
      "  (0, 1282)\t2\n",
      "  (0, 1356)\t1\n",
      "  (0, 1520)\t1\n",
      "  (0, 1573)\t1\n",
      "  (0, 1585)\t1\n",
      "  (0, 1610)\t1\n",
      "  (0, 1718)\t1\n",
      "  (0, 1721)\t1\n",
      "  (0, 1860)\t1\n",
      "  (0, 2065)\t1\n",
      "  (0, 2137)\t1\n",
      "  (0, 2305)\t1\n",
      "  (0, 2421)\t1\n",
      "  (0, 2573)\t1\n",
      "  (0, 2596)\t1\n",
      "  (0, 2720)\t1\n",
      "  (0, 2834)\t1\n",
      "  (0, 3056)\t2\n",
      "  (0, 3140)\t1\n",
      "  (0, 3144)\t1\n",
      "Getting the words back:\n",
      "Loco\n",
      "Market\n"
     ]
    }
   ],
   "source": [
    "# words to vector \n",
    "vocab = CountVectorizer(analyzer= removal).fit(x)\n",
    "print(len(vocab.vocabulary_))\n",
    "r0 = x[0]\n",
    "print(r0)\n",
    "vocab0 = vocab.transform([r0])\n",
    "print(vocab0)\n",
    "\"\"\"\n",
    "    Now the words in the review number 78 have been converted into a vector.\n",
    "    The data that we can see is the transformed words.\n",
    "    If we now get the feature's name - we can get the word back!\n",
    "\"\"\"\n",
    "print(\"Getting the words back:\")\n",
    "print(vocab.get_feature_names()[345])\n",
    "print(vocab.get_feature_names()[367])"
   ]
  },
  {
   "cell_type": "code",
   "execution_count": 25,
   "metadata": {},
   "outputs": [
    {
     "name": "stdout",
     "output_type": "stream",
     "text": [
      "Shape of the sparse matrix:  (192, 3166)\n",
      "Non-Zero occurences:  7594\n",
      "Density of the matrix =  1.2492761634028218\n"
     ]
    }
   ],
   "source": [
    "x = vocab.transform(x)\n",
    "#shape of the matrix:\n",
    "print(\"Shape of the sparse matrix: \", x.shape)\n",
    "\n",
    "#Non-zero occurences:\n",
    "print(\"Non-Zero occurences: \",x.nnz)\n",
    "\n",
    "# Density of M\n",
    "density = (x.nnz/(x.shape[0]*x.shape[1]))*100\n",
    "print(\"Density of the matrix = \",density)"
   ]
  },
  {
   "cell_type": "code",
   "execution_count": 27,
   "metadata": {},
   "outputs": [],
   "source": [
    "#split data into train and test dataset \n",
    "x_train,x_test,y_train,y_test = train_test_split(x,y,test_size=0.2,random_state=101)"
   ]
  },
  {
   "cell_type": "code",
   "execution_count": 28,
   "metadata": {},
   "outputs": [
    {
     "name": "stdout",
     "output_type": "stream",
     "text": [
      "Confusion Matrix for Random Forest Classifier:\n",
      "[[ 0  1  0]\n",
      " [ 0 34  0]\n",
      " [ 0  4  0]]\n",
      "Score: 87.18\n",
      "Classification Report:               precision    recall  f1-score   support\n",
      "\n",
      "         1.0       0.00      0.00      0.00         1\n",
      "         3.0       0.87      1.00      0.93        34\n",
      "         5.0       0.00      0.00      0.00         4\n",
      "\n",
      "    accuracy                           0.87        39\n",
      "   macro avg       0.29      0.33      0.31        39\n",
      "weighted avg       0.76      0.87      0.81        39\n",
      "\n"
     ]
    },
    {
     "name": "stderr",
     "output_type": "stream",
     "text": [
      "/Users/qiweihe/opt/anaconda3/lib/python3.7/site-packages/sklearn/metrics/_classification.py:1272: UndefinedMetricWarning: Precision and F-score are ill-defined and being set to 0.0 in labels with no predicted samples. Use `zero_division` parameter to control this behavior.\n",
      "  _warn_prf(average, modifier, msg_start, len(result))\n"
     ]
    }
   ],
   "source": [
    "# 1.Random Forest\n",
    "from sklearn.ensemble import RandomForestClassifier\n",
    "rmfr = RandomForestClassifier()\n",
    "rmfr.fit(x_train,y_train)\n",
    "predrmfr = rmfr.predict(x_test)\n",
    "print(\"Confusion Matrix for Random Forest Classifier:\")\n",
    "print(confusion_matrix(y_test,predrmfr))\n",
    "print(\"Score:\",round(accuracy_score(y_test,predrmfr)*100,2))\n",
    "print(\"Classification Report:\",classification_report(y_test,predrmfr))"
   ]
  },
  {
   "cell_type": "code",
   "execution_count": 29,
   "metadata": {},
   "outputs": [
    {
     "name": "stdout",
     "output_type": "stream",
     "text": [
      "Confusion Matrix for Multinomial Naive Bayes:\n",
      "[[ 1  0  0]\n",
      " [ 3 27  4]\n",
      " [ 1  0  3]]\n",
      "Score: 79.49\n",
      "Classification Report:               precision    recall  f1-score   support\n",
      "\n",
      "         1.0       0.20      1.00      0.33         1\n",
      "         3.0       1.00      0.79      0.89        34\n",
      "         5.0       0.43      0.75      0.55         4\n",
      "\n",
      "    accuracy                           0.79        39\n",
      "   macro avg       0.54      0.85      0.59        39\n",
      "weighted avg       0.92      0.79      0.84        39\n",
      "\n"
     ]
    }
   ],
   "source": [
    "# 2.Multinomial Naive Bayes\n",
    "from sklearn.naive_bayes import MultinomialNB\n",
    "mnb = MultinomialNB()\n",
    "mnb.fit(x_train,y_train)\n",
    "predmnb = mnb.predict(x_test)\n",
    "print(\"Confusion Matrix for Multinomial Naive Bayes:\")\n",
    "print(confusion_matrix(y_test,predmnb))\n",
    "print(\"Score:\",round(accuracy_score(y_test,predmnb)*100,2))\n",
    "print(\"Classification Report:\",classification_report(y_test,predmnb))"
   ]
  },
  {
   "cell_type": "code",
   "execution_count": 30,
   "metadata": {},
   "outputs": [
    {
     "name": "stdout",
     "output_type": "stream",
     "text": [
      "Confusion Matrix for Support Vector Machines:\n",
      "[[ 0  1  0]\n",
      " [ 0 34  0]\n",
      " [ 0  4  0]]\n",
      "Score: 87.18\n",
      "Classification Report:               precision    recall  f1-score   support\n",
      "\n",
      "         1.0       0.00      0.00      0.00         1\n",
      "         3.0       0.87      1.00      0.93        34\n",
      "         5.0       0.00      0.00      0.00         4\n",
      "\n",
      "    accuracy                           0.87        39\n",
      "   macro avg       0.29      0.33      0.31        39\n",
      "weighted avg       0.76      0.87      0.81        39\n",
      "\n"
     ]
    },
    {
     "name": "stderr",
     "output_type": "stream",
     "text": [
      "/Users/qiweihe/opt/anaconda3/lib/python3.7/site-packages/sklearn/metrics/_classification.py:1272: UndefinedMetricWarning: Precision and F-score are ill-defined and being set to 0.0 in labels with no predicted samples. Use `zero_division` parameter to control this behavior.\n",
      "  _warn_prf(average, modifier, msg_start, len(result))\n"
     ]
    }
   ],
   "source": [
    "# 3.Support Vector Machine\n",
    "from sklearn.svm import SVC\n",
    "svm = SVC(random_state=101)\n",
    "svm.fit(x_train,y_train)\n",
    "predsvm = svm.predict(x_test)\n",
    "print(\"Confusion Matrix for Support Vector Machines:\")\n",
    "print(confusion_matrix(y_test,predsvm))\n",
    "print(\"Score:\",round(accuracy_score(y_test,predsvm)*100,2))\n",
    "print(\"Classification Report:\",classification_report(y_test,predsvm))"
   ]
  },
  {
   "cell_type": "code",
   "execution_count": 31,
   "metadata": {},
   "outputs": [
    {
     "name": "stdout",
     "output_type": "stream",
     "text": [
      "Confusion Matrix for K Neighbors Classifier:\n",
      "[[ 0  1  0]\n",
      " [ 0 34  0]\n",
      " [ 0  4  0]]\n",
      "Score:  87.18\n",
      "Classification Report:\n",
      "              precision    recall  f1-score   support\n",
      "\n",
      "         1.0       0.00      0.00      0.00         1\n",
      "         3.0       0.87      1.00      0.93        34\n",
      "         5.0       0.00      0.00      0.00         4\n",
      "\n",
      "    accuracy                           0.87        39\n",
      "   macro avg       0.29      0.33      0.31        39\n",
      "weighted avg       0.76      0.87      0.81        39\n",
      "\n"
     ]
    },
    {
     "name": "stderr",
     "output_type": "stream",
     "text": [
      "/Users/qiweihe/opt/anaconda3/lib/python3.7/site-packages/sklearn/metrics/_classification.py:1272: UndefinedMetricWarning: Precision and F-score are ill-defined and being set to 0.0 in labels with no predicted samples. Use `zero_division` parameter to control this behavior.\n",
      "  _warn_prf(average, modifier, msg_start, len(result))\n"
     ]
    }
   ],
   "source": [
    "# 4.K Nearest Neighbour Algorithm\n",
    "from sklearn.neighbors import KNeighborsClassifier\n",
    "knn = KNeighborsClassifier(n_neighbors=10)\n",
    "knn.fit(x_train,y_train)\n",
    "predknn = knn.predict(x_test)\n",
    "print(\"Confusion Matrix for K Neighbors Classifier:\")\n",
    "print(confusion_matrix(y_test,predknn))\n",
    "print(\"Score: \",round(accuracy_score(y_test,predknn)*100,2))\n",
    "print(\"Classification Report:\")\n",
    "print(classification_report(y_test,predknn))"
   ]
  },
  {
   "cell_type": "markdown",
   "metadata": {},
   "source": [
    "Compare score:\n",
    "1.Random Forest:87.18\n",
    "2.Multinomial Naive Bayes:79.49\n",
    "3.Support Vector Machine:87.18\n",
    "4.KNN: 87.18\n",
    "\n",
    "--> Other than Multinomial Naive Bayes, all three models gives very high performance. "
   ]
  },
  {
   "cell_type": "code",
   "execution_count": 37,
   "metadata": {},
   "outputs": [
    {
     "name": "stdout",
     "output_type": "stream",
     "text": [
      "Staff was great.  Food was pretty good. We had the south west chicken pie and sausage pie and were really happy with the selection.  Their salads were decent sized and well done.  Apple pie was awesome.  My wife who is a pie maker/snob was really impressed with the apple pie.\n",
      "Actual Rating:  4.0\n",
      "Predicted Rating:\n"
     ]
    },
    {
     "data": {
      "text/plain": [
       "3.0"
      ]
     },
     "execution_count": 37,
     "metadata": {},
     "output_type": "execute_result"
    }
   ],
   "source": [
    "# random positive review\n",
    "pr = data['review/0/0'][300]\n",
    "print(pr)\n",
    "print(\"Actual Rating: \",data['stars'][300])\n",
    "pr_t = vocab.transform([pr])\n",
    "print(\"Predicted Rating:\")\n",
    "mlp.predict(pr_t)[0]"
   ]
  },
  {
   "cell_type": "code",
   "execution_count": 36,
   "metadata": {},
   "outputs": [
    {
     "name": "stdout",
     "output_type": "stream",
     "text": [
      "Would be better if the staff didn't talk bad about their customers when other customers can hear. Overall not a bad experience; staff seemed to enjoy each other's company. But it leaves a bad taste hearing then talk about other clients in a bad way while people waiting for their drinks. It just leaves a bad taste and makes me wonder what they say about me when I leave.\n",
      "Actual Rating:  3.0\n",
      "Predicted Rating:\n"
     ]
    },
    {
     "data": {
      "text/plain": [
       "3.0"
      ]
     },
     "execution_count": 36,
     "metadata": {},
     "output_type": "execute_result"
    }
   ],
   "source": [
    "# random average review\n",
    "ar = data['review/0/0'][16]\n",
    "print(ar)\n",
    "print(\"Actual Rating: \",data['stars'][16])\n",
    "ar_t = vocab.transform([ar])\n",
    "print(\"Predicted Rating:\")\n",
    "mlp.predict(ar_t)[0]"
   ]
  },
  {
   "cell_type": "code",
   "execution_count": 66,
   "metadata": {},
   "outputs": [
    {
     "name": "stdout",
     "output_type": "stream",
     "text": [
      "Your typical Starbucks located within another organization - small and without a lot of the extras. For example, no breakfast sandwiches :( Or any hot food what-so-ever. But staff was friendly.\n",
      "Actual Rating:  2.0\n",
      "Predicted Rating:\n"
     ]
    },
    {
     "data": {
      "text/plain": [
       "3.0"
      ]
     },
     "execution_count": 66,
     "metadata": {},
     "output_type": "execute_result"
    }
   ],
   "source": [
    "# random negative review\n",
    "nr = data['review/0/0'][40]\n",
    "print(nr)\n",
    "print(\"Actual Rating: \",data['stars'][40])\n",
    "nr_t = vocab.transform([nr])\n",
    "print(\"Predicted Rating:\")\n",
    "mlp.predict(nr_t)[0]"
   ]
  },
  {
   "cell_type": "code",
   "execution_count": 39,
   "metadata": {},
   "outputs": [
    {
     "name": "stdout",
     "output_type": "stream",
     "text": [
      "4.0    342\n",
      "3.5    196\n",
      "4.5    175\n",
      "3.0    143\n",
      "2.5    136\n",
      "2.0    116\n",
      "1.5     87\n",
      "5.0     37\n",
      "1.0     12\n",
      "Name: stars, dtype: int64\n"
     ]
    }
   ],
   "source": [
    "count = data['stars'].value_counts()\n",
    "print(count)"
   ]
  },
  {
   "cell_type": "markdown",
   "metadata": {},
   "source": [
    "Analysis: The model is better at prediciting reviews with positive and average(neutral) attributes. The possible reason could be that the amount of positive and average(neutral) reviews are much more than negative reviews from the stat above, therefore the trained results are more accurate for positive and average(neutral) reviews. "
   ]
  },
  {
   "cell_type": "markdown",
   "metadata": {},
   "source": [
    "# Insights into reviews' distribution"
   ]
  },
  {
   "cell_type": "code",
   "execution_count": 43,
   "metadata": {},
   "outputs": [
    {
     "data": {
      "image/png": "[encoded data removed]",
      "text/plain": [
       "<Figure size 432x288 with 1 Axes>"
      ]
     },
     "metadata": {
      "needs_background": "light"
     },
     "output_type": "display_data"
    }
   ],
   "source": [
    "import matplotlib.pyplot as plt\n",
    "data['date'] = pd.to_datetime(data['date'])\n",
    "data = data.set_index('date')\n",
    "plt.plot(data['review/0/0'].resample('M').count())\n",
    "plt.xlabel('Year')\n",
    "plt.ylabel('Number of reviews')\n",
    "plt.title('Number of reviews per month')\n",
    "plt.show()"
   ]
  },
  {
   "cell_type": "code",
   "execution_count": 51,
   "metadata": {},
   "outputs": [
    {
     "data": {
      "image/png": "[encoded data removed]",
      "text/plain": [
       "<Figure size 432x288 with 1 Axes>"
      ]
     },
     "metadata": {
      "needs_background": "light"
     },
     "output_type": "display_data"
    }
   ],
   "source": [
    "import seaborn as sns\n",
    "ax = sns.barplot(data=data, x='stars', y='stars', estimator=lambda x: len(x) / len(data) * 100)\n",
    "ax.set(ylabel=\"Percent\")\n",
    "plt.title('Distribution of Customer Rating')\n",
    "plt.show()"
   ]
  },
  {
   "cell_type": "code",
   "execution_count": 110,
   "metadata": {},
   "outputs": [
    {
     "data": {
      "image/png": "[encoded data removed]",
      "text/plain": [
       "<Figure size 432x288 with 1 Axes>"
      ]
     },
     "metadata": {
      "needs_background": "light"
     },
     "output_type": "display_data"
    }
   ],
   "source": [
    "plt.plot(data['stars'].resample('M').mean())\n",
    "plt.xlabel('Year')\n",
    "plt.ylabel('stars')\n",
    "plt.title('Average Monthly Customer Rating')\n",
    "plt.ylim(0,5)\n",
    "plt.show()"
   ]
  },
  {
   "cell_type": "markdown",
   "metadata": {},
   "source": [
    "# Tokenization and Bag-of-Words"
   ]
  },
  {
   "cell_type": "code",
   "execution_count": 70,
   "metadata": {},
   "outputs": [
    {
     "name": "stderr",
     "output_type": "stream",
     "text": [
      "/Users/qiweihe/opt/anaconda3/lib/python3.7/site-packages/sklearn/utils/deprecation.py:144: FutureWarning: The sklearn.feature_extraction.stop_words module is  deprecated in version 0.22 and will be removed in version 0.24. The corresponding classes / functions should instead be imported from sklearn.feature_extraction.text. Anything that cannot be imported from sklearn.feature_extraction.text is now part of the private API.\n",
      "  warnings.warn(message, FutureWarning)\n"
     ]
    }
   ],
   "source": [
    "from nltk.corpus import stopwords\n",
    "from sklearn.feature_extraction.stop_words import ENGLISH_STOP_WORDS\n",
    "my_stop_words = set(stopwords.words('english') + list(ENGLISH_STOP_WORDS) + ['super', 'duper', 'place'])"
   ]
  },
  {
   "cell_type": "code",
   "execution_count": 88,
   "metadata": {},
   "outputs": [
    {
     "name": "stderr",
     "output_type": "stream",
     "text": [
      "[nltk_data] Downloading package punkt to /Users/qiweihe/nltk_data...\n",
      "[nltk_data]   Package punkt is already up-to-date!\n"
     ]
    }
   ],
   "source": [
    "from nltk.tokenize import word_tokenize\n",
    "from nltk import FreqDist\n",
    "import nltk\n",
    "nltk.download('punkt')\n",
    "full_text = ' '.join(data['review/0/0'])\n",
    "lower_full_text = full_text.lower()\n",
    "word_tokens = word_tokenize(lower_full_text)\n",
    "tokens = list()\n",
    "for word in word_tokens:\n",
    "    if word.isalpha() and word not in my_stop_words:\n",
    "        tokens.append(word)\n",
    "token_dist = FreqDist(tokens)\n",
    "dist = pd.DataFrame(token_dist.most_common(30),columns=['Word', 'Frequency'])"
   ]
  },
  {
   "cell_type": "code",
   "execution_count": 109,
   "metadata": {},
   "outputs": [
    {
     "data": {
      "image/png": "[encoded data removed]",
      "text/plain": [
       "<Figure size 432x288 with 1 Axes>"
      ]
     },
     "metadata": {
      "needs_background": "light"
     },
     "output_type": "display_data"
    }
   ],
   "source": [
    "import seaborn as sns\n",
    "ax = sns.barplot(data=dist, x='Frequency', y='Word' )\n",
    "ax.set(xlabel=\"Word Freq\")\n",
    "plt.title('30 most frequent words')\n",
    "plt.show()"
   ]
  },
  {
   "cell_type": "code",
   "execution_count": null,
   "metadata": {},
   "outputs": [],
   "source": [
    "For better accuracy, the words are stemed to the basic root form. The word accompanied with suffies is simplified.  "
   ]
  },
  {
   "cell_type": "code",
   "execution_count": 90,
   "metadata": {},
   "outputs": [],
   "source": [
    "from nltk.stem import PorterStemmer\n",
    "porter = PorterStemmer()\n",
    "stemmed_tokens =[porter.stem(word) for word in tokens]\n",
    "stemmed_token_dist = FreqDist(stemmed_tokens)\n",
    "stemmed_dist = pd.DataFrame(stemmed_token_dist.most_common(30),columns=['Word', 'Frequency'])"
   ]
  },
  {
   "cell_type": "code",
   "execution_count": 108,
   "metadata": {},
   "outputs": [
    {
     "data": {
      "image/png": "[encoded data removed]",
      "text/plain": [
       "<Figure size 432x288 with 1 Axes>"
      ]
     },
     "metadata": {
      "needs_background": "light"
     },
     "output_type": "display_data"
    }
   ],
   "source": [
    "import seaborn as sns\n",
    "ax = sns.barplot(data=stemmed_dist, x='Frequency', y='Word' )\n",
    "ax.set(xlabel=\"Word Freq\")\n",
    "plt.title('30 most frequent words')\n",
    "plt.show()"
   ]
  },
  {
   "cell_type": "markdown",
   "metadata": {},
   "source": [
    "There are changes in the top words of frequency after stemming. "
   ]
  },
  {
   "cell_type": "markdown",
   "metadata": {},
   "source": [
    "# N-gram analysis"
   ]
  },
  {
   "cell_type": "code",
   "execution_count": 96,
   "metadata": {},
   "outputs": [],
   "source": [
    "from sklearn.feature_extraction.text import CountVectorizer\n",
    "\n",
    "vect = CountVectorizer(stop_words=my_stop_words, ngram_range=(2,2))\n",
    "bigrams = vect.fit_transform(data['review/0/0'])\n",
    "bigram_df = pd.DataFrame(bigrams.toarray(), columns=vect.get_feature_names())\n",
    "bigram_frequency = pd.DataFrame(bigram_df.sum(axis=0)).reset_index()\n",
    "bigram_frequency.columns = ['bigram', 'frequency']\n",
    "bigram_frequency = bigram_frequency.sort_values(by='frequency', ascending=False).head(30)"
   ]
  },
  {
   "cell_type": "code",
   "execution_count": 107,
   "metadata": {},
   "outputs": [
    {
     "data": {
      "image/png": "[encoded data removed]",
      "text/plain": [
       "<Figure size 432x288 with 1 Axes>"
      ]
     },
     "metadata": {
      "needs_background": "light"
     },
     "output_type": "display_data"
    }
   ],
   "source": [
    "ax = sns.barplot(data=bigram_frequency, x='frequency', y='bigram' )\n",
    "ax.set(xlabel=\"Word Freq\")\n",
    "plt.title('30 most frequent bigrams')\n",
    "plt.show()"
   ]
  },
  {
   "cell_type": "code",
   "execution_count": 101,
   "metadata": {},
   "outputs": [],
   "source": [
    "vect = CountVectorizer(stop_words=my_stop_words, ngram_range=(3,3))\n",
    "trigrams = vect.fit_transform(data['review/0/0'])\n",
    "trigram_df = pd.DataFrame(trigrams.toarray(), columns=vect.get_feature_names())\n",
    "trigram_frequency = pd.DataFrame(trigram_df.sum(axis=0)).reset_index()\n",
    "trigram_frequency.columns = ['trigram', 'frequency']\n",
    "trigram_frequency = trigram_frequency.sort_values(by='frequency', ascending=False).head(30)"
   ]
  },
  {
   "cell_type": "code",
   "execution_count": 106,
   "metadata": {},
   "outputs": [
    {
     "data": {
      "image/png": "[encoded data removed]",
      "text/plain": [
       "<Figure size 432x288 with 1 Axes>"
      ]
     },
     "metadata": {
      "needs_background": "light"
     },
     "output_type": "display_data"
    }
   ],
   "source": [
    "ax = sns.barplot(data=trigram_frequency, x='frequency', y='trigram' )\n",
    "ax.set(xlabel=\"Word Freq\")\n",
    "plt.title('30 most frequent trigrams')\n",
    "plt.show()"
   ]
  },
  {
   "cell_type": "markdown",
   "metadata": {},
   "source": [
    "# Sentiment Score Analysis "
   ]
  },
  {
   "cell_type": "code",
   "execution_count": 105,
   "metadata": {},
   "outputs": [
    {
     "name": "stderr",
     "output_type": "stream",
     "text": [
      "[nltk_data] Downloading package vader_lexicon to\n",
      "[nltk_data]     /Users/qiweihe/nltk_data...\n",
      "[nltk_data]   Package vader_lexicon is already up-to-date!\n"
     ]
    }
   ],
   "source": [
    "nltk.download('vader_lexicon')\n",
    "# Load SentimentIntensityAnalyzer\n",
    "from nltk.sentiment.vader import SentimentIntensityAnalyzer\n",
    "# Instantiate new SentimentIntensityAnalyzer\n",
    "sid = SentimentIntensityAnalyzer()\n",
    "# Generate sentiment scores\n",
    "sentiment_scores = data['review/0/0'].apply(sid.polarity_scores)\n",
    "sentiment = sentiment_scores.apply(lambda x: x['compound'])\n",
    "monthly_sentiment = sentiment.resample('M').mean()"
   ]
  },
  {
   "cell_type": "code",
   "execution_count": 119,
   "metadata": {},
   "outputs": [
    {
     "data": {
      "image/png": "[encoded data removed]",
      "text/plain": [
       "<Figure size 432x288 with 1 Axes>"
      ]
     },
     "metadata": {
      "needs_background": "light"
     },
     "output_type": "display_data"
    }
   ],
   "source": [
    "plt.plot(sentiment.resample('M').mean())\n",
    "plt.xlabel('Year')\n",
    "plt.ylabel('monthly_sentiment')\n",
    "\n",
    "plt.title('Average Monthly Sentiment Score')\n",
    "plt.ylim(0,1)\n",
    "plt.show()"
   ]
  },
  {
   "cell_type": "markdown",
   "metadata": {},
   "source": [
    "citation:\n",
    "1.https://towardsdatascience.com/text-mining-and-sentiment-analysis-for-yelp-reviews-of-a-burger-chain-6d3bcfcab17b\n",
    "2.https://www.kaggle.com/code/omkarsabnis/sentiment-analysis-on-the-yelp-reviews-dataset\n"
   ]
  }
 ],
 "metadata": {
  "kernelspec": {
   "display_name": "Python 3",
   "language": "python",
   "name": "python3"
  },
  "language_info": {
   "codemirror_mode": {
    "name": "ipython",
    "version": 3
   },
   "file_extension": ".py",
   "mimetype": "text/x-python",
   "name": "python",
   "nbconvert_exporter": "python",
   "pygments_lexer": "ipython3",
   "version": "3.7.6"
  }
 },
 "nbformat": 4,
 "nbformat_minor": 4
}
