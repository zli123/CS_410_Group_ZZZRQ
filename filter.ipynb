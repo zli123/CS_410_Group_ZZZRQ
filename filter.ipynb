{
 "cells": [
  {
   "cell_type": "code",
   "execution_count": 1,
   "id": "f1f1937a",
   "metadata": {},
   "outputs": [],
   "source": [
    "import json  \n",
    "import collections"
   ]
  },
  {
   "cell_type": "code",
   "execution_count": null,
   "id": "b50f97d6",
   "metadata": {},
   "outputs": [],
   "source": [
    "choice = True\n",
    "num_output = 5\n",
    "num_reviews = 50\n",
    "download = True"
   ]
  },
  {
   "cell_type": "code",
   "execution_count": 10,
   "id": "67c2e0b0",
   "metadata": {},
   "outputs": [],
   "source": [
    "datas = [json.loads(line)\n",
    "        for line in open('yelp_academic_dataset_business.json', 'r', encoding='utf-8')]\n",
    "businessId2name = collections.defaultdict(list)\n",
    "for data in datas:\n",
    "    businessId2name[data[\"business_id\"]] = [data[\"name\"],data[\"city\"],data[\"state\"],data[\"categories\"],data[\"review_count\"],data[\"stars\"]]"
   ]
  },
  {
   "cell_type": "code",
   "execution_count": 4,
   "id": "1022260b",
   "metadata": {},
   "outputs": [],
   "source": [
    "reviewdatas = [json.loads(line)\n",
    "        for line in open('yelp_academic_dataset_review.json', 'r', encoding='utf-8')]"
   ]
  },
  {
   "cell_type": "code",
   "execution_count": null,
   "id": "2d94184c",
   "metadata": {},
   "outputs": [],
   "source": [
    "flag = 0\n",
    "if choice:\n",
    "    flag = 1"
   ]
  },
  {
   "cell_type": "code",
   "execution_count": 16,
   "id": "bdd895a1",
   "metadata": {},
   "outputs": [],
   "source": [
    "businessId2json = collections.defaultdict(list)\n",
    "visited = set()\n",
    "for data in reviewdatas:\n",
    "    tempdict = {}\n",
    "    tempdict[\"business_id\"] = data[\"business_id\"]\n",
    "    tempdict[\"user_id\"] = data[\"user_id\"]\n",
    "    tempdict[\"review_id\"] = data[\"review_id\"]\n",
    "    tempdict[\"stars\"] = businessId2name[data[\"business_id\"]][5]\n",
    "    tempdict[\"actual_yelp_score\"] = data[\"stars\"]\n",
    "    time = data[\"date\"].split(\" \")\n",
    "    tempdict[\"date\"] = time[0]\n",
    "    tempdict[\"time\"] = time[1]\n",
    "    tempdict[\"review\"] = [data[\"text\"]]\n",
    "    tempdict[\"city\"] = businessId2name[data[\"business_id\"]][1]\n",
    "    tempdict[\"state\"] = businessId2name[data[\"business_id\"]][2]\n",
    "    tempdict[\"categories\"] = businessId2name[data[\"business_id\"]][3]\n",
    "    tempdict[\"business_review_count\"] = businessId2name[data[\"business_id\"]][4]\n",
    " \n",
    "    businessId2json[businessId2name[data[\"business_id\"]][flag]].append(tempdict)\n",
    "    if len(businessId2json[businessId2name[data[\"business_id\"]][flag]]) >= num_reviews:\n",
    "        visited.add(businessId2name[data[\"business_id\"]][flag])\n",
    "    if len(visited) == num_output:\n",
    "        break"
   ]
  },
  {
   "cell_type": "code",
   "execution_count": 17,
   "id": "dcda68f9",
   "metadata": {},
   "outputs": [],
   "source": [
    "count = 0\n",
    "res = []\n",
    "for key in businessId2json:\n",
    "    if download:\n",
    "        if(len(businessId2json[key]) >= num_reviews):\n",
    "            name = key + \".json\"\n",
    "            if count == num_output:\n",
    "                break\n",
    "            try:\n",
    "                with open(name, 'w') as f:\n",
    "                    for data in businessId2json[key]:\n",
    "                        json.dump(data, f)\n",
    "                count+=1\n",
    "            except:\n",
    "                print(\"An exception occurred\")\n",
    "    else:\n",
    "        res.append(businessId2json[key])\n"
   ]
  }
 ],
 "metadata": {
  "kernelspec": {
   "display_name": "Python 3.9.13 ('base')",
   "language": "python",
   "name": "python3"
  },
  "language_info": {
   "codemirror_mode": {
    "name": "ipython",
    "version": 3
   },
   "file_extension": ".py",
   "mimetype": "text/x-python",
   "name": "python",
   "nbconvert_exporter": "python",
   "pygments_lexer": "ipython3",
   "version": "3.9.13"
  },
  "vscode": {
   "interpreter": {
    "hash": "40d3a090f54c6569ab1632332b64b2c03c39dcf918b08424e98f38b5ae0af88f"
   }
  }
 },
 "nbformat": 4,
 "nbformat_minor": 5
}
