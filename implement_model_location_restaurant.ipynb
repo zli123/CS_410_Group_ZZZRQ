{
 "cells": [
  {
   "cell_type": "code",
   "execution_count": 4,
   "metadata": {},
   "outputs": [],
   "source": [
    "# citation:\n",
    "# https://learn.microsoft.com/en-us/python/api/overview/azure/ai-textanalytics-readme?view=azure-python-preview&preserve-view=true\n",
    "\n",
    "from azure.core.credentials import AzureKeyCredential\n",
    "from azure.ai.textanalytics import TextAnalyticsClient\n",
    "import json\n",
    "\n",
    "def calculate_score(document):\n",
    "    # api Key and endpoint\n",
    "    credential = AzureKeyCredential(\"aa041270d50d414f93846bfe0ab1e666\")\n",
    "    endpoint=\"https://cs410project.cognitiveservices.azure.com/\"\n",
    "\n",
    "    text_analytics_client = TextAnalyticsClient(endpoint, credential)\n",
    "\n",
    "    response = text_analytics_client.analyze_sentiment(document, language=\"en\")\n",
    "    result = [doc for doc in response if not doc.is_error]\n",
    "    for doc in result:\n",
    "        positive_score = doc.confidence_scores.positive\n",
    "        neutural_score = doc.confidence_scores.neutral\n",
    "        negative_score = doc.confidence_scores.negative\n",
    "        final_score = positive_score*2.5 + neutural_score*5 + negative_score*0\n",
    "    return final_score\n",
    "\n",
    "def add_score(input_path, out_path):\n",
    "    with open(input_path, encoding='utf-8') as f:\n",
    "        line = f.readline()\n",
    "        choose_data = json.loads(line)\n",
    "        f.close()\n",
    "    res = []\n",
    "    for r in choose_data:\n",
    "        i = {}\n",
    "        i['review_id'] = r['review_id']\n",
    "        i['user_id'] = r['user_id']\n",
    "        i['business_id'] = r['business_id']\n",
    "        i['review'] = [r['review']]\n",
    "        i['date'] = r['date']\n",
    "        i['time'] = r['time']\n",
    "        i['categories'] = r['categories']\n",
    "        i['city'] = r['city']\n",
    "        i['state'] = r['state']\n",
    "        i['stars'] = r['stars']\n",
    "        i['business_review_count'] = r['business_review_count']\n",
    "        i['predit_yelp_score'] = calculate_score(r['review'])\n",
    "        i['actual_yelp_score'] = r['actual_yelp_score']\n",
    "        res.append(i)\n",
    "    with open(out_path, 'w') as  f:\n",
    "        json.dump(res, f)"
   ]
  },
  {
   "cell_type": "markdown",
   "metadata": {},
   "source": [
    "sloving location data"
   ]
  },
  {
   "cell_type": "code",
   "execution_count": 6,
   "metadata": {},
   "outputs": [],
   "source": [
    "add_score('location/Nashville.json', 'location_final_data/Nashville.json')"
   ]
  },
  {
   "cell_type": "code",
   "execution_count": 7,
   "metadata": {},
   "outputs": [],
   "source": [
    "add_score('location/New Orleans.json', 'location_final_data/New Orleans.json')"
   ]
  },
  {
   "cell_type": "code",
   "execution_count": 8,
   "metadata": {},
   "outputs": [],
   "source": [
    "add_score('location/Philadelphia.json', 'location_final_data/Philadelphia.json')"
   ]
  },
  {
   "cell_type": "code",
   "execution_count": 9,
   "metadata": {},
   "outputs": [],
   "source": [
    "add_score('location/Reno.json', 'location_final_data/Reno.json')"
   ]
  },
  {
   "cell_type": "code",
   "execution_count": 10,
   "metadata": {},
   "outputs": [],
   "source": [
    "add_score('location/Tampa.json', 'location_final_data/Tampa.json')"
   ]
  },
  {
   "cell_type": "code",
   "execution_count": 12,
   "metadata": {},
   "outputs": [],
   "source": [
    "add_score('location/Tucson.json', 'location_final_data/Tucson.json')"
   ]
  },
  {
   "cell_type": "markdown",
   "metadata": {},
   "source": [
    "restaurant data solving"
   ]
  },
  {
   "cell_type": "code",
   "execution_count": 13,
   "metadata": {},
   "outputs": [],
   "source": [
    "add_score('restaurant/Acme Oyster House.json', 'restaurant_final_data/Acme Oyster House.json')"
   ]
  },
  {
   "cell_type": "code",
   "execution_count": 14,
   "metadata": {},
   "outputs": [],
   "source": [
    "add_score('restaurant/Chipotle Mexican Grill.json', 'restaurant_final_data/Chipotle Mexican Grill.json')"
   ]
  },
  {
   "cell_type": "code",
   "execution_count": 15,
   "metadata": {},
   "outputs": [],
   "source": [
    "add_score('restaurant/Dunkin.json', 'restaurant_final_data/Dunkin.json')"
   ]
  },
  {
   "cell_type": "code",
   "execution_count": 16,
   "metadata": {},
   "outputs": [],
   "source": [
    "add_score('restaurant/McDonald.json', 'restaurant_final_data/McDonald.json')"
   ]
  },
  {
   "cell_type": "code",
   "execution_count": 17,
   "metadata": {},
   "outputs": [],
   "source": [
    "add_score('restaurant/Starbucks.json', 'restaurant_final_data/Starbucks.json')"
   ]
  },
  {
   "cell_type": "code",
   "execution_count": 18,
   "metadata": {},
   "outputs": [],
   "source": [
    "add_score('restaurant/Taco Bell.json', 'restaurant_final_data/Taco Bell.json')"
   ]
  }
 ],
 "metadata": {
  "kernelspec": {
   "display_name": "Python 3.7.4 ('base')",
   "language": "python",
   "name": "python3"
  },
  "language_info": {
   "codemirror_mode": {
    "name": "ipython",
    "version": 3
   },
   "file_extension": ".py",
   "mimetype": "text/x-python",
   "name": "python",
   "nbconvert_exporter": "python",
   "pygments_lexer": "ipython3",
   "version": "3.7.4"
  },
  "orig_nbformat": 4,
  "vscode": {
   "interpreter": {
    "hash": "40d3a090f54c6569ab1632332b64b2c03c39dcf918b08424e98f38b5ae0af88f"
   }
  }
 },
 "nbformat": 4,
 "nbformat_minor": 2
}
